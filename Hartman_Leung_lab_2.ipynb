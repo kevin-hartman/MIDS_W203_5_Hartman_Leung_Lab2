{
 "cells": [
  {
   "cell_type": "markdown",
   "metadata": {},
   "source": [
    "# Lab 2: Comparing Means\n",
    "## w203 Statistics for Data Science\n",
    "\n",
    "Student Names: Kevin Hartman and Francis Leung\n",
    "\n",
    "Section Number: 5"
   ]
  },
  {
   "cell_type": "code",
   "execution_count": 1,
   "metadata": {},
   "outputs": [],
   "source": [
    "A = read.csv(\"anes_pilot_2018.csv\")"
   ]
  },
  {
   "cell_type": "code",
   "execution_count": 2,
   "metadata": {},
   "outputs": [
    {
     "ename": "ERROR",
     "evalue": "Error in library(survey): there is no package called ‘survey’\n",
     "output_type": "error",
     "traceback": [
      "Error in library(survey): there is no package called ‘survey’\nTraceback:\n",
      "1. library(survey)",
      "2. stop(txt, domain = NA)"
     ]
    }
   ],
   "source": [
    "library(survey)\n",
    "library(effsize)\n",
    "library(dplyr)\n",
    "library(ggplot2)\n",
    "library(tableone)"
   ]
  },
  {
   "cell_type": "markdown",
   "metadata": {},
   "source": [
    "We will use the survey package to apply weights to our sample. Why apply weights?\n",
    "\n",
    "Raw survey data tends to underpresent certain groups that weren't collected in the study. For example, in the US population we know there are roughly 49.2% men and 50.8% women, and we know that 9.9% of the population makes up the age group from 18-24, and we know certain percentages of the population are black, hispanic, white, etc. \n",
    "[Can we put a source here?] \n",
    "\n",
    "We can alter the weights of different groups in the sample to make it more reflective of the population: e.g. increasing the weight of under-represented popuplations and lowering that of the over-represented. This process is called raking. ANES provides the weight vector as a result of conducting the rake process over the data set."
   ]
  },
  {
   "cell_type": "markdown",
   "metadata": {},
   "source": [
    "## Question 1: Do US voters have more respect for the police or for journalists?"
   ]
  },
  {
   "cell_type": "markdown",
   "metadata": {},
   "source": [
    "### Introduce your topic briefly.  (5 points)\n",
    "Explain how your variables are operationalized.  Comment on any gaps that you can identify between your operational definitions and the concepts you are trying to study."
   ]
  },
  {
   "cell_type": "markdown",
   "metadata": {
    "scrolled": true
   },
   "source": [
    ">From a conceptual standpoint we want to understand how US voters feel about police or journalists as a measure of respect, and determine which group, if there is a difference, where respect may be strongest.\n",
    ">\n",
    ">*Feeling Thermometers:* We have two  questions from the survey that ask the survey respondent to rate their sentiment toward police and journalists on a  scale of 0-100\n",
    ">\n",
    ">* **ftpolice**: How would you rate the police?\n",
    ">* **ftjournal**: How would you rate journalists?\n",
    ">\n",
    ">This rating is not explicitly a measure of respect, but by virtue of the response representing an overall favorability measurement, respect can be inferred, e.g. people tend to show respect for things in which they favor and demonstrate lack of respect for things they don't. One limitation for our extrapolation is that \"rate\" could be open to different interpretations by different respondents. We don't know that if respondents are rating police and journalists based on their effectiveness, contribution to society, as professions or by any other metric.\n",
    ">\n",
    ">We also note that although these variables are recorded on a sliding continium, we recognize them as ordinal in nature. They are not precise measurements as in a real thermometer. Your score of 80 may be my score of 65. However, given my rating of 65 and yours of 85 you and I will be consistent across questions using our personal methodogy. And since we are comparing feeling scores across measures there will be consistency in our  comparative ranking placement when we compare results.\n",
    ">\n",
    ">*Registered Voters*: We also have a question on the survey indicating whether the interviewer is registered to vote. \n",
    ">\n",
    ">* **reg**: Are you registered to vote, or not?\n",
    ">\n",
    ">This is important as we are asking the question \"Do US voters have...\" and will be making comparisons on feeling thermometers for just US voters.\n",
    ">"
   ]
  },
  {
   "cell_type": "markdown",
   "metadata": {},
   "source": [
    "### Perform an exploratory data analysis (EDA) of the relevant variables. (5 points)\n",
    "This should include a treatment of non-response and other special codes, basic sanity checks, and a justification for any values that are removed.  Use visual tools to assess the relationship among your variables and comment on any features you find."
   ]
  },
  {
   "cell_type": "code",
   "execution_count": 3,
   "metadata": {},
   "outputs": [],
   "source": [
    "#General recodes\n",
    "#Recode the inputstate based on the errata https://electionstudies.org/2018-pilot-study-updates-errata/\n",
    "A$inputstate[A$inputstate==-1] <-9\n",
    "A$inputstate[A$inputstate==-7] <-8\n",
    "#Recode all Don't Know (DK) answers to NA\n",
    "A[A==-7] <- NA\n",
    "#Recode all legitimate skips to NA\n",
    "A[A==-1] <- NA"
   ]
  },
  {
   "cell_type": "code",
   "execution_count": 4,
   "metadata": {},
   "outputs": [],
   "source": [
    "#ftpolice and ftjournal are the thermometer readings.\n",
    "#Difference variable is so that the means can be compared for testing\n",
    "A$diff_police_journalist_ftemp<-A$ftpolice - A$ftjournal"
   ]
  },
  {
   "cell_type": "code",
   "execution_count": 5,
   "metadata": {},
   "outputs": [],
   "source": [
    "#Removing errors in collection from excedingly large\n",
    "#thermometer readings since > 100 is not a valid response\n",
    "A[A==997] <- NA"
   ]
  },
  {
   "cell_type": "code",
   "execution_count": 6,
   "metadata": {},
   "outputs": [
    {
     "ename": "ERROR",
     "evalue": "Error in svydesign(ids = ~1, data = A, weights = ~weight): could not find function \"svydesign\"\n",
     "output_type": "error",
     "traceback": [
      "Error in svydesign(ids = ~1, data = A, weights = ~weight): could not find function \"svydesign\"\nTraceback:\n"
     ]
    }
   ],
   "source": [
    "#Create a survey design from our data\n",
    "anes_design = svydesign(ids = ~1, data=A, weights = ~weight)\n",
    "\n",
    "#Include the relevent questions in our design object for analysis preparation\n",
    "anes_design <- \n",
    "    update( \n",
    "        anes_design ,     \n",
    "        one = 1,\n",
    "        police_ftemp = ifelse( ftpolice %in% 0:100 , ftpolice , NA ) ,\n",
    "        journalist_ftemp = ifelse( ftjournal %in% 0:100, ftjournal , NA ) ,\n",
    "        registered_voter = ifelse( reg %in% 1:3 , as.numeric( reg %in% 1:2 ) , NA ) ,\n",
    "        voter_police_ftemp = ifelse(registered_voter == 1, police_ftemp, NA),\n",
    "        voter_journalist_ftemp = ifelse(registered_voter == 1 , journalist_ftemp, NA),\n",
    "        diff_voter_police_journalist_ftemp = ifelse(registered_voter ==1, diff_police_journalist_ftemp, NA)\n",
    ")\n"
   ]
  },
  {
   "cell_type": "markdown",
   "metadata": {},
   "source": [
    "Let's review the histogram from the two thermometer readings. These histograms will be weighted to represent the population because we're pulling the values out from the survey design package. See svytable."
   ]
  },
  {
   "cell_type": "code",
   "execution_count": 7,
   "metadata": {},
   "outputs": [
    {
     "ename": "ERROR",
     "evalue": "Error in svytable(~voter_police_ftemp, anes_design) %>% as.data.frame() %>% : could not find function \"%>%\"\n",
     "output_type": "error",
     "traceback": [
      "Error in svytable(~voter_police_ftemp, anes_design) %>% as.data.frame() %>% : could not find function \"%>%\"\nTraceback:\n"
     ]
    }
   ],
   "source": [
    "dfpolice <- svytable(~voter_police_ftemp, anes_design ) %>% as.data.frame() %>% mutate(Prop = Freq/sum(Freq))\n",
    "dfjournalist <- svytable(~voter_journalist_ftemp, anes_design ) %>% as.data.frame() %>% mutate(Prop = Freq/sum(Freq))\n",
    "dfp<-data.frame(ftemp=as.numeric(dfpolice$voter_police_ftemp)-1, tempFreq=dfpolice$Freq, prop=dfpolice$Prop)\n",
    "dfj<-data.frame(ftemp=as.numeric(dfjournalist$voter_journalist_ftemp)-1, tempFreq=dfjournalist$Freq, prop=dfjournalist$Prop)\n",
    "dfp$category<-'police'\n",
    "dfj$category<-'journalists'\n",
    "dfvotertherm<-rbind(dfp,dfj)"
   ]
  },
  {
   "cell_type": "code",
   "execution_count": 8,
   "metadata": {},
   "outputs": [
    {
     "ename": "ERROR",
     "evalue": "Error in ggplot(dfvotertherm, aes(x = ftemp, weight = tempFreq, color = category, : could not find function \"ggplot\"\n",
     "output_type": "error",
     "traceback": [
      "Error in ggplot(dfvotertherm, aes(x = ftemp, weight = tempFreq, color = category, : could not find function \"ggplot\"\nTraceback:\n"
     ]
    }
   ],
   "source": [
    "ggplot(dfvotertherm, aes(x = ftemp, weight=tempFreq, color=category, fill = category)) + \n",
    "  geom_histogram(position=\"identity\", alpha=0.5, bins=30) +\n",
    "  labs(title=\"Weighted Thermometer Readings for Registered Voters\", x=\"Temperature\", y=\"Number of Voters\")"
   ]
  },
  {
   "cell_type": "markdown",
   "metadata": {},
   "source": [
    "Notably, there is a higher concentration of lower temperature readings for journalists than there are for police in the histogram above.\n",
    "\n",
    "We will also review the boxplots of the same two thermometers to confirm this rationale.\n",
    "\n",
    "Note where the means fall relative to one another in the boxplot below, with the one for police higher than that for journalists."
   ]
  },
  {
   "cell_type": "code",
   "execution_count": 9,
   "metadata": {},
   "outputs": [
    {
     "ename": "ERROR",
     "evalue": "Error in ggplot(dfvotertherm, aes(x = prop, y = ftemp, weight = tempFreq, : could not find function \"ggplot\"\n",
     "output_type": "error",
     "traceback": [
      "Error in ggplot(dfvotertherm, aes(x = prop, y = ftemp, weight = tempFreq, : could not find function \"ggplot\"\nTraceback:\n"
     ]
    }
   ],
   "source": [
    "ggplot(dfvotertherm, aes(x = prop, y=ftemp, weight=tempFreq, fill = category)) + \n",
    "  geom_boxplot(position=\"identity\", alpha=0.5) +\n",
    " labs(title=\"Thermometer Readings for Registered Voters\", x=\"Proportion of Responses\", y=\"Temperature\")"
   ]
  },
  {
   "cell_type": "markdown",
   "metadata": {},
   "source": [
    "### Based on your EDA, select an appropriate hypothesis test.  (5 points)\n",
    "Explain why your test is the most appropriate choice, focusing on its statistical assumptions."
   ]
  },
  {
   "cell_type": "markdown",
   "metadata": {},
   "source": [
    ">Because the measures are ordinal, and because both measures are from the same sample, we will apply a non-parametic Wilcoxon Signed Rank test to compare means.\n",
    ">\n",
    "> The null hypothesis is\n",
    "> * $H_0: \\mu_{police} = \\mu_{journalists}$, there is no difference in favor for police and journalists. \n",
    ">\n",
    "> The alternative hypothesis is\n",
    "> * $H_A: \\mu_{police} \\neq \\mu_{journalists}$, there is a difference in favor for police and journalists."
   ]
  },
  {
   "cell_type": "markdown",
   "metadata": {},
   "source": [
    "### Conduct your test. (5 points)\n",
    "Explain (1) the statistical significance of your result, and (2) the practical significance of your result.  Make sure you relate your findings to the original research question."
   ]
  },
  {
   "cell_type": "markdown",
   "metadata": {},
   "source": [
    ">We would like to apply the survey design's Wilcoxon test for weights, however, the design package has a limitation in comparing paired measures from the same sample. The syntax of the call would appear as follows, but execution of the code generates an error."
   ]
  },
  {
   "cell_type": "code",
   "execution_count": 10,
   "metadata": {},
   "outputs": [
    {
     "ename": "ERROR",
     "evalue": "Error in svyranktest(diff_voter_police_journalist_ftemp ~ one, anes_design, : could not find function \"svyranktest\"\n",
     "output_type": "error",
     "traceback": [
      "Error in svyranktest(diff_voter_police_journalist_ftemp ~ one, anes_design, : could not find function \"svyranktest\"\nTraceback:\n"
     ]
    }
   ],
   "source": [
    "svyranktest(diff_voter_police_journalist_ftemp~one, anes_design, na.rm=TRUE, test=\"wilcoxon\")"
   ]
  },
  {
   "cell_type": "markdown",
   "metadata": {},
   "source": [
    ">Instead, we will run the test outside of the survey design package. Unfortunately this means weights will not be accounted for in this particular test. Implementing a weighted verson of the Wilcoxon Signed Rank Test algorithm is outside the scope of this lab excercise."
   ]
  },
  {
   "cell_type": "code",
   "execution_count": 11,
   "metadata": {},
   "outputs": [
    {
     "data": {
      "text/plain": [
       "\n",
       "\tWilcoxon signed rank test with continuity correction\n",
       "\n",
       "data:  v_police and v_journalists\n",
       "V = 1113900, p-value < 2.2e-16\n",
       "alternative hypothesis: true location shift is not equal to 0\n",
       "95 percent confidence interval:\n",
       "  8.99993 13.99997\n",
       "sample estimates:\n",
       "(pseudo)median \n",
       "      11.49992 \n"
      ]
     },
     "metadata": {},
     "output_type": "display_data"
    }
   ],
   "source": [
    "# prepare a vector of responses from registered voters\n",
    "v_police=A$ftpolice * as.numeric( A$reg %in% 1:2 ) \n",
    "v_police[v_police==0]<-NA\n",
    "v_journalists=A$ftjournal * as.numeric( A$reg %in% 1:2 ) \n",
    "v_journalists[v_journalists==0]<-NA \n",
    "\n",
    "wilcox.test(v_police,\n",
    "            v_journalists,\n",
    "            paired=TRUE, conf.int=TRUE)\n"
   ]
  },
  {
   "cell_type": "code",
   "execution_count": 12,
   "metadata": {},
   "outputs": [
    {
     "ename": "ERROR",
     "evalue": "Error in svymean(~voter_police_ftemp, anes_design, na.rm = TRUE): could not find function \"svymean\"\n",
     "output_type": "error",
     "traceback": [
      "Error in svymean(~voter_police_ftemp, anes_design, na.rm = TRUE): could not find function \"svymean\"\nTraceback:\n"
     ]
    }
   ],
   "source": [
    "tab<-svymean(~voter_police_ftemp, anes_design, na.rm=TRUE)\n",
    "tab"
   ]
  },
  {
   "cell_type": "markdown",
   "metadata": {},
   "source": [
    ">We also want to review the statistic's effect size. Effect size for a Wilcoxon Signed-rank test is defined as\n",
    ">$$r = \\frac{Z}{\\sqrt{N}}$$\n",
    ">\n",
    ">The standard wilcox test does not return the Z value, but the coin package includes a version of the wilcoxon Signed Rank Test that does."
   ]
  },
  {
   "cell_type": "code",
   "execution_count": 13,
   "metadata": {},
   "outputs": [
    {
     "ename": "ERROR",
     "evalue": "Error in library(coin): there is no package called ‘coin’\n",
     "output_type": "error",
     "traceback": [
      "Error in library(coin): there is no package called ‘coin’\nTraceback:\n",
      "1. library(coin)",
      "2. stop(txt, domain = NA)"
     ]
    }
   ],
   "source": [
    "library(coin)"
   ]
  },
  {
   "cell_type": "code",
   "execution_count": 14,
   "metadata": {},
   "outputs": [
    {
     "ename": "ERROR",
     "evalue": "Error in wilcoxsign_test(v_police ~ v_journalists): could not find function \"wilcoxsign_test\"\n",
     "output_type": "error",
     "traceback": [
      "Error in wilcoxsign_test(v_police ~ v_journalists): could not find function \"wilcoxsign_test\"\nTraceback:\n"
     ]
    }
   ],
   "source": [
    "wilcoxsign_test(v_police~v_journalists)"
   ]
  },
  {
   "cell_type": "code",
   "execution_count": 15,
   "metadata": {},
   "outputs": [
    {
     "data": {
      "text/html": [
       "0.184556"
      ],
      "text/latex": [
       "0.184556"
      ],
      "text/markdown": [
       "0.184556"
      ],
      "text/plain": [
       "[1] 0.184556"
      ]
     },
     "metadata": {},
     "output_type": "display_data"
    }
   ],
   "source": [
    "r<-9.2278/sqrt(2500)\n",
    "r"
   ]
  },
  {
   "cell_type": "markdown",
   "metadata": {},
   "source": [
    ">**Q1 Summary of Results:**\n",
    ">\n",
    ">From the very small p-value obtained (2.2e-16), we can reject the null hypothesis and accept the alternative that there is a difference in favor.\n",
    ">\n",
    ">In fact, after inspection of the means from each measure, and from the boxplot in the EDA above, we can suggest that in general voters have a higher opinion of police than they do of journalists.\n",
    ">\n",
    ">Thus, our test shows that there is statistical significance but little practical significance."
   ]
  },
  {
   "cell_type": "markdown",
   "metadata": {},
   "source": [
    "## Question 2: Are Republican voters older or younger than Democratic voters?"
   ]
  },
  {
   "cell_type": "markdown",
   "metadata": {},
   "source": [
    "### Introduce your topic briefly.  (5 points)\n",
    "Explain how your variables are operationalized.  Comment on any gaps that you can identify between your operational definitions and the concepts you are trying to study."
   ]
  },
  {
   "cell_type": "markdown",
   "metadata": {},
   "source": [
    ">We would like to compare the average age of Republican voters against the average age of Democratic voters. In order to do so, we need to determine 1) the age of the voter and 2) the political affiliation of the voter. We attempt to operationalize our variables as follows:\n",
    ">\n",
    ">*Age of Voter:*\n",
    "An examination of the ANES questionnaire specification indicates that there is a field called 'birthyr' that corresponds to the question 'In what year were you born?' Given that this study was conducted in December 2018, we can calculate a new variable called age by subtracting 'birthyr' from 2018. \n",
    ">\n",
    ">* Given that the survey was completed before Dec 21, 2018, there is a slight possibility that certain values for \"age\" may be off by a year as the participant could have been born in the remaining 10 days of the year. However, this is should not be an important distinction. \n",
    ">* We can sanity check this age variable in our EDA by looking at its range. We should expect that that the minimum age is 18 given that survey participants should be 18 or older.\n",
    ">\n",
    ">*Party Affiliation:*\n",
    "What does it mean to be a \"Republican\" or \"Democrat\" voter? Does it depend on a voter's previous voting record? Or perhaps on party registration? Or how they describe their own political affiliation? \n",
    ">\n",
    ">* Self-described political affiliation: We believe that the self-described political affiliation, in the fields pid1d or pid1r is the best variable to use to determine with which party the voter best identifies. These fields correspond with the survey question \"Generally speaking, do you usually think of yourself as a Democrat, a Republican, an\n",
    "independent, or what?\" However, just because the voter identifies with one party (or neither) at the time the survey was conducted in 2018 does not mean that they have always identified with this choice. Also, as political parties (and what they stand for) evolve over time, we must be careful when extrapolating this classification across time periods. We may also miss voters who declare themselves as others, but still feel like they are either \"More democrat \" or \"more Repbulican\". Nonetheless for the avoidance of doubt, a \"Republican\" voter in our study will be defined as someone who identified as \"Generally speaking, thinking of themselves as a Republican in December 2018,\" and likewise for a Democrat voter. \n",
    ">\n",
    ">We also examined other ways to determine the political affiliation of a voter, but found them to be more ambigious and less optimal operationalizations of our variables. \n",
    ">\n",
    ">* Voting record: Entries such as 'vote16' which corresponds to the voter's choice in the 2016 presidential election, or other fields related to the 2018 elections could give us insight into each voter's record. However, just because a voter voted for a democratic candidate in 2016 or 2018 does not provide enough data points to determine them as a \"democrat\" voter, and we may run into difficult judgement calls if the voter voted for different parties in the two years. \n",
    ">\n",
    ">* Voter registration: The field 'vote20dem' offers us insight into whether a voter planned to participate in the 2020 democratic primaries. Primaries in the US are only open to registered voters of that party. This would give us insight into which voters have registered as Democrats, but would not give us insights into those who did not (if they are Republican, indpendent or something else)."
   ]
  },
  {
   "cell_type": "markdown",
   "metadata": {},
   "source": [
    "### Perform an exploratory data analysis (EDA) of the relevant variables. (5 points)\n",
    "This should include a treatment of non-response and other special codes, basic sanity checks, and a justification for any values that are removed.  Use visual tools to assess the relationship among your variables and comment on any features you find."
   ]
  },
  {
   "cell_type": "markdown",
   "metadata": {},
   "source": [
    ">**Age**\n",
    ">* As defined above, we compute age by subtracting birthyr from 2018.\n",
    ">* We note from the summary and histogram below that the range of all ages are from 18 - 91 years old, with the mean age of all survey participants as 49.5 years.\n",
    ">* We note that most respondents are between 20-70 years, with fewer >80. This makes sense as overall in the US population there should be less people alive and computer literate >80."
   ]
  },
  {
   "cell_type": "code",
   "execution_count": 16,
   "metadata": {},
   "outputs": [
    {
     "data": {
      "text/plain": [
       "   Min. 1st Qu.  Median    Mean 3rd Qu.    Max. \n",
       "  18.00   35.00   52.00   49.48   62.00   91.00 "
      ]
     },
     "metadata": {},
     "output_type": "display_data"
    },
    {
     "data": {
      "image/png": "[encoded data removed]",
      "text/plain": [
       "Plot with title “Distribution of voter age”"
      ]
     },
     "metadata": {},
     "output_type": "display_data"
    }
   ],
   "source": [
    "age<- 2018-A$birthyr\n",
    "summary(age)\n",
    "hist(age, main=\"Distribution of voter age\", ylab=\"Number of voters\")"
   ]
  },
  {
   "cell_type": "markdown",
   "metadata": {},
   "source": [
    ">**Political Affiliation**\n",
    ">* Since this question had two formats, which ranked either \"Democrat\" or \"Republican\" first, we need to look at book fields \"pid1d\" and \"pid1r\". \n",
    "> * Sanity checks: We checked to see that only one of either \"pid1d\" or \"pid1r\" was answered. We also note that these fields only contained the numbers (1-4) and NAs, as we have recoded the answers for skips. "
   ]
  },
  {
   "cell_type": "code",
   "execution_count": 21,
   "metadata": {},
   "outputs": [],
   "source": [
    "#Extract all the rows from A$pid1d that equal 1 (democrat) or 2 (republican)\n",
    "# Extract relevant columns from A.\n",
    "df_1d<-select(A,birthyr,pid1d)\n",
    "# Add an age column.\n",
    "df_1d$age<-2018-A$birthyr\n",
    "# Replace 1 and 2 with democrat and republican, respectively.\n",
    "df_1d$pid1d<-replace(df_1d$pid1d,A$pid1d==1,\"democrat\")\n",
    "df_1d$pid1d<-replace(df_1d$pid1d,A$pid1d==2,\"republican\")\n",
    "# Filter out all other values.\n",
    "df_1d<-df_1d %>% filter(pid1d == \"democrat\" | pid1d==\"republican\")\n",
    "#Rename pid1d to party.\n",
    "df_1d<-rename(df_1d, party = pid1d)\n",
    "# Drop birth year column.\n",
    "df_1d<-select(df_1d, age,party)"
   ]
  },
  {
   "cell_type": "code",
   "execution_count": 22,
   "metadata": {},
   "outputs": [],
   "source": [
    "#Extract all the rows from A$pid1r that equal 1 (republican) or 2 (democrat)\n",
    "# Extract relevant columbns from A.\n",
    "df_1r<-select(A,birthyr,pid1r)\n",
    "# Add an age column.\n",
    "df_1r$age<-2018-A$birthyr\n",
    "# Replace 1 and 2 with democrat and republican, respectively.\n",
    "df_1r$pid1r<-replace(df_1r$pid1r,A$pid1r==1,\"republican\")\n",
    "df_1r$pid1r<-replace(df_1r$pid1r,A$pid1r==2,\"democrat\")\n",
    "# Filter out all other values.\n",
    "df_1r<-df_1r %>% filter(pid1r == \"democrat\" | pid1r==\"republican\")\n",
    "#Rename pid1r to party.\n",
    "df_1r<-rename(df_1r, party = pid1r)\n",
    "# Drop birth year column.\n",
    "df_1r<-select(df_1r, age,party)\n",
    "# Combine both tables\n",
    "age_df<-rbind(df_1d,df_1r)"
   ]
  },
  {
   "cell_type": "code",
   "execution_count": 23,
   "metadata": {},
   "outputs": [],
   "source": [
    "rep<-filter(age_df,party==\"republican\")\n",
    "dem<-filter(age_df,party==\"democrat\")"
   ]
  },
  {
   "cell_type": "code",
   "execution_count": 24,
   "metadata": {},
   "outputs": [
    {
     "ename": "ERROR",
     "evalue": "Error in ggplot(age_df, aes(x = age, color = party, fill = party)): could not find function \"ggplot\"\n",
     "output_type": "error",
     "traceback": [
      "Error in ggplot(age_df, aes(x = age, color = party, fill = party)): could not find function \"ggplot\"\nTraceback:\n"
     ]
    }
   ],
   "source": [
    "# Create a histogram.\n",
    "ggplot(age_df, aes(x=age, color=party, fill=party)) +\n",
    "  geom_histogram(position=\"identity\", alpha=0.5, bins =40) + ggtitle(\"Voters by party affiliation\")+ylab(\"Number of voters\")"
   ]
  },
  {
   "cell_type": "markdown",
   "metadata": {},
   "source": [
    "### Based on your EDA, select an appropriate hypothesis test.  (5 points)\n",
    "Explain why your test is the most appropriate choice, focusing on its statistical assumptions."
   ]
  },
  {
   "cell_type": "markdown",
   "metadata": {},
   "source": [
    ">We believe an indpendent T-test is the most appropriate choice because:\n",
    ">\n",
    ">* There are two categorical groups for our independent variable and the groups are different people.\n",
    ">* Based on the histogram above, the dependent variable (age) is continuous. \n",
    ">* Both groups appear to be fairly normally distributed from the histogram above and the sample size for both are over 700, which means the CLT should hold.\n",
    ">* The draws for both groups should be fairly independently and identically distributed given the YouGov sample methodology. It is not possible for a respondent to be in both groups.\n",
    ">\n",
    ">As a result, we will use an Independent Two Sample T-Test to determine if there is a statistically significant difference between the means in two unrelated groups. \n",
    ">* Our null hypothesis is $H_0: \\mu_{republican} = \\mu_{democrat}$ \n",
    ", There are no difference between the mean age of democrat and republican voters. \n",
    ">* The alternative hypothesis is $H_A: \\mu_{republican} \\neq \\mu_{democrat}$ , The mean age of repbulican voters are greater or less than the mean of democrat voters. \n",
    ">\n"
   ]
  },
  {
   "cell_type": "markdown",
   "metadata": {},
   "source": [
    "### Conduct your test. (5 points)\n",
    "Explain (1) the statistical significance of your result, and (2) the practical significance of your result.  Make sure you relate your findings to the original research question."
   ]
  },
  {
   "cell_type": "code",
   "execution_count": null,
   "metadata": {},
   "outputs": [],
   "source": [
    "t.test(age ~ party, data=age_df)"
   ]
  },
  {
   "cell_type": "code",
   "execution_count": null,
   "metadata": {},
   "outputs": [],
   "source": [
    "cohen.d(age~party, data=age_df)"
   ]
  },
  {
   "cell_type": "markdown",
   "metadata": {},
   "source": [
    ">**Q2 Summary of Results:**\n",
    ">\n",
    ">Our paired T-test returned a p-value of 0.1941, which is greater than 0.05. As a result, our test is not statistically significant and we failed to reject the null hypothesis that there is no difference between the mean age of democrat voters and republican voters. \n",
    ">\n",
    ">We also note from the t-test that the positive t-value indicates that the sample mean of the first group was higher than the sample mean of the second group (which we note to be true as the sample mean of the democrat group was 51.9 compared to 50.8 of the republican group). The 1463.4 degrees of freedom indicates that the sample variances between the two groups were not equal. Also, typically if the 95% CI includes 0, the results are not statistically significant, which is reflected in the p-value.\n",
    ">\n",
    ">Practically, using the Cohen's d method we got a d estimate of 0.068, which is less than 0.2. As a result, the practical significance of our test is small. \n",
    ">\n",
    ">Thus from our analysis of this sample, while the mean age of Republican voters was different from the mean age of Democrat voters in our survey population, we can not conclude that the Republican voters are older or younger than Democrat voters. It is only through a very careful study can we see the effect of age on one's self-professed party affiliation, if there is an effect at all. "
   ]
  },
  {
   "cell_type": "markdown",
   "metadata": {},
   "source": [
    "**We will conduct a brief survey design version of this test for comparison. Note that the survey design will apply weights to the sample to reflect the population.**\n"
   ]
  },
  {
   "cell_type": "code",
   "execution_count": null,
   "metadata": {},
   "outputs": [],
   "source": [
    "anes_design <- \n",
    "    update( \n",
    "        anes_design , \n",
    "        \n",
    "        one = 1,\n",
    "        \n",
    "        age = as.numeric(2018 - birthyr),\n",
    "        \n",
    "        party_iden = case_when (\n",
    "            (pid1d == 1 | pid1r == 1) & pidstr == 1 ~ 1, #Strong Democrat\n",
    "            (pid1d == 1 | pid1r == 1) & (pidstr == 2 | pidstr == 0) ~ 2, #Not very strong Democrat\n",
    "            (pid1d == 4 | pid1r == 4) & (pidlean == 2) ~ 3, #Something else, closer to Democrat\n",
    "            (pid1d == 4 | pid1r == 4) & (pidlean == 1) ~ 7, #Something else, closer to Republican\n",
    "            (pid1d == 2 | pid1r == 2) & (pidstr == 2 | pidstr == 0) ~ 8, #Not very strong Republican\n",
    "            (pid1d == 2 | pid1r == 2) & pidstr == 1 ~ 9, #Strong Republican\n",
    "            (pidlean == 2) ~ 4, #Indep, Closer to Democratic Party\n",
    "            (pidlean == 3) | ((pid1d == 3 | pid1r == 3) & pidlean == 0) ~ 5, #Independent\n",
    "            (pidlean == 1) ~ 6, #Indep, Closer to Republican Party\n",
    "            TRUE ~ 0, \n",
    "        ),\n",
    "        \n",
    "        party_iden2 = ifelse( party_iden %in% 1:2,\n",
    "                              1,\n",
    "                              ifelse( party_iden %in% 8:9,\n",
    "                                      2,\n",
    "                                      NA)\n",
    "                            ),\n",
    "\n",
    "        party =\n",
    "            factor( party_iden2 , levels = 1:2 , labels =\n",
    "                c( 'Democrat',\n",
    "                    'Republican')\n",
    "            )  \n",
    ")"
   ]
  },
  {
   "cell_type": "code",
   "execution_count": null,
   "metadata": {},
   "outputs": [],
   "source": [
    "df<-svytable(~party+age, anes_design ) %>% as.data.frame() %>% mutate(Prop = Freq/sum(Freq))\n",
    "df$age<-as.numeric(df$age)+17"
   ]
  },
  {
   "cell_type": "code",
   "execution_count": null,
   "metadata": {},
   "outputs": [],
   "source": [
    "ggplot(df, aes(x = age, weight=Freq, color=party, fill = party)) + \n",
    "  geom_histogram(position=\"identity\", alpha=0.5, bins=40) +\n",
    "  labs(title=\"Voters by party affiliation - Weighted\", x=\"Age\", y=\"Number of Voters\")"
   ]
  },
  {
   "cell_type": "code",
   "execution_count": null,
   "metadata": {
    "scrolled": true
   },
   "outputs": [],
   "source": [
    "svyby(~age, ~party, anes_design, svymean, na.rm=TRUE)"
   ]
  },
  {
   "cell_type": "code",
   "execution_count": null,
   "metadata": {},
   "outputs": [],
   "source": [
    "svyttest(age ~ party, anes_design)"
   ]
  },
  {
   "cell_type": "markdown",
   "metadata": {},
   "source": [
    "In the weighted version of our test using the survey design package we see that the average mean age is lower for Democrats vs Republicans, and, after running the t-test we see that that we would in fact reject the null that there is no difference between the average age of Democrats and Republicans.\n",
    "\n",
    "This shows statistical significance.\n",
    "\n",
    "A quick check on standard mean difference SMD (below) shows there is a moderate amount of practical significance."
   ]
  },
  {
   "cell_type": "code",
   "execution_count": null,
   "metadata": {},
   "outputs": [],
   "source": [
    "vars <- c(\"age\")\n",
    "strata<-c(\"party\")\n",
    "tabIPW <- svyCreateTableOne(vars = vars, strata=strata, \n",
    "                            testApprox=\"svyTTest\", data = anes_design)\n",
    "print(tabIPW, smd = TRUE)"
   ]
  },
  {
   "cell_type": "markdown",
   "metadata": {},
   "source": [
    "## Question 3: Do a majority of independent voters believe that the federal investigations of Russian election interference are baseless?"
   ]
  },
  {
   "cell_type": "markdown",
   "metadata": {},
   "source": [
    "### Introduce your topic briefly.  (5 points)\n",
    "Explain how your variables are operationalized.  Comment on any gaps that you can identify between your operational definitions and the concepts you are trying to study."
   ]
  },
  {
   "cell_type": "markdown",
   "metadata": {},
   "source": [
    ">We would like to determine if a majority of independent voters believes the Russian election inteference are baseless. In order to do so, we need to determine 1) which voters identify as independent and 2) whether they believe that the investigations are baseless. We attempt to operationalize our variables as follows:\n",
    ">\n",
    ">*Affiliation as independent:*\n",
    ">Similar to Question 2 above, we believe that the self-described political affiliation, in the fields 'pid1d' or 'pid1r' is the best variable to use to determine which voters identify as indpendents. The limitations of using this field are noted in Q2.\n",
    ">\n",
    ">*Majority:*\n",
    ">We define majority as a simple majority, i.e. >50% # of independent voters.\n",
    ">\n",
    ">*Belief that federal investigations of Russian election inteference are baseless*\n",
    "The federal investigations into Russian election inteference can be grouped into two buckets of investigations that were separately pursued by the US House of Representatives, Senate and Department of Justice: 1) Whether or not the Russians interfered in the 2016 presidential election, and 2) Whether there were links ir coordination between Donald Trump's campaign and the Russian government. \n",
    ">\n",
    ">For the purpose of our investigation, we limit our examination of \"federal investigations\" to the first bucket. As a result, we are interested in the variable 'russia16' which corresponds to the question 'Do you think the Russian government probably interfered in the 2016 presidential election to try to help Donald Trump win, or do you think this probably did not happen? ' The answers for russia16 are either (1) for \"Russia probably interfered\" and (2) for \"This probably did not happen.\" We will also operationalize this by changing the first response to 0 and the second to 1. \n",
    ">\n",
    ">* One limitation of this operationalization is that while voters may hold the view that the Russians inteference probably did not occur, it does not necessarily mean that they think the investigation is baseless. They could in fact hold that the opinion that an investigation is necessary to confirm the Russians did not intefere. "
   ]
  },
  {
   "cell_type": "markdown",
   "metadata": {},
   "source": [
    "### Perform an exploratory data analysis (EDA) of the relevant variables. (5 points)\n",
    "This should include a treatment of non-response and other special codes, basic sanity checks, and a justification for any values that are removed.  Use visual tools to assess the relationship among your variables and comment on any features you find."
   ]
  },
  {
   "cell_type": "markdown",
   "metadata": {},
   "source": [
    ">**Independent Political Affiliation**\n",
    ">* We have already checked the pid1d and pid1r fields in Q2.\n",
    ">* From the EDA below, we can see that there are 767 respondents that identified as independent.\n",
    ">\n",
    ">**Russian Election Inteference**\n",
    ">* We should expect to see only answers 1,2, NA for 'russia16' before our transformation. "
   ]
  },
  {
   "cell_type": "code",
   "execution_count": 18,
   "metadata": {},
   "outputs": [
    {
     "data": {
      "text/html": [
       "<ol class=list-inline>\n",
       "\t<li>2</li>\n",
       "\t<li>1</li>\n",
       "\t<li>&lt;NA&gt;</li>\n",
       "</ol>\n"
      ],
      "text/latex": [
       "\\begin{enumerate*}\n",
       "\\item 2\n",
       "\\item 1\n",
       "\\item <NA>\n",
       "\\end{enumerate*}\n"
      ],
      "text/markdown": [
       "1. 2\n",
       "2. 1\n",
       "3. &lt;NA&gt;\n",
       "\n",
       "\n"
      ],
      "text/plain": [
       "[1]  2  1 NA"
      ]
     },
     "metadata": {},
     "output_type": "display_data"
    }
   ],
   "source": [
    "# Validate values for Russia16\n",
    "unique(A$russia16)"
   ]
  },
  {
   "cell_type": "code",
   "execution_count": 20,
   "metadata": {},
   "outputs": [
    {
     "name": "stderr",
     "output_type": "stream",
     "text": [
      "\n",
      "Attaching package: ‘dplyr’\n",
      "\n",
      "The following objects are masked from ‘package:stats’:\n",
      "\n",
      "    filter, lag\n",
      "\n",
      "The following objects are masked from ‘package:base’:\n",
      "\n",
      "    intersect, setdiff, setequal, union\n",
      "\n"
     ]
    },
    {
     "data": {
      "text/html": [
       "<table>\n",
       "<thead><tr><th scope=col>russia16</th><th scope=col>party</th></tr></thead>\n",
       "<tbody>\n",
       "\t<tr><td>2          </td><td>independent</td></tr>\n",
       "\t<tr><td>2          </td><td>independent</td></tr>\n",
       "\t<tr><td>1          </td><td>independent</td></tr>\n",
       "\t<tr><td>1          </td><td>independent</td></tr>\n",
       "\t<tr><td>1          </td><td>independent</td></tr>\n",
       "\t<tr><td>1          </td><td>independent</td></tr>\n",
       "</tbody>\n",
       "</table>\n"
      ],
      "text/latex": [
       "\\begin{tabular}{r|ll}\n",
       " russia16 & party\\\\\n",
       "\\hline\n",
       "\t 2           & independent\\\\\n",
       "\t 2           & independent\\\\\n",
       "\t 1           & independent\\\\\n",
       "\t 1           & independent\\\\\n",
       "\t 1           & independent\\\\\n",
       "\t 1           & independent\\\\\n",
       "\\end{tabular}\n"
      ],
      "text/markdown": [
       "\n",
       "russia16 | party | \n",
       "|---|---|---|---|---|---|\n",
       "| 2           | independent | \n",
       "| 2           | independent | \n",
       "| 1           | independent | \n",
       "| 1           | independent | \n",
       "| 1           | independent | \n",
       "| 1           | independent | \n",
       "\n",
       "\n"
      ],
      "text/plain": [
       "  russia16 party      \n",
       "1 2        independent\n",
       "2 2        independent\n",
       "3 1        independent\n",
       "4 1        independent\n",
       "5 1        independent\n",
       "6 1        independent"
      ]
     },
     "metadata": {},
     "output_type": "display_data"
    }
   ],
   "source": [
    "#Extract all the rows from A$pid1d that equal 3 (independent)\n",
    "# Extract relevant columbns from A.\n",
    "df_ind1<-select(A,russia16,pid1d)\n",
    "# Replace 3 with independent.\n",
    "df_ind1$pid1d<-replace(df_ind1$pid1d,A$pid1d==3,\"independent\")\n",
    "# Filter out all other values.\n",
    "df_ind1<-df_ind1 %>% filter(pid1d == \"independent\")\n",
    "#Rename pid1d to party.\n",
    "df_ind1<-rename(df_ind1, party = pid1d)"
   ]
  },
  {
   "cell_type": "code",
   "execution_count": 26,
   "metadata": {},
   "outputs": [],
   "source": [
    "# Repeat for A$pid1r that equals 3(independent)\n",
    "# Extract relevant columbns from A.\n",
    "df_ind2<-select(A,russia16,pid1r)\n",
    "# Replace 3 with independent.\n",
    "df_ind2$pid1r<-replace(df_ind2$pid1r,A$pid1r==3,\"independent\")\n",
    "# Filter out all other values.\n",
    "df_ind2<-df_ind2 %>% filter(pid1r == \"independent\")\n",
    "#Rename pid1r to party.\n",
    "df_ind2<-rename(df_ind2, party = pid1r)"
   ]
  },
  {
   "cell_type": "code",
   "execution_count": 27,
   "metadata": {},
   "outputs": [
    {
     "data": {
      "text/html": [
       "<table>\n",
       "<thead><tr><th scope=col>russia16</th><th scope=col>party</th></tr></thead>\n",
       "<tbody>\n",
       "\t<tr><td>1          </td><td>independent</td></tr>\n",
       "\t<tr><td>1          </td><td>independent</td></tr>\n",
       "\t<tr><td>0          </td><td>independent</td></tr>\n",
       "\t<tr><td>0          </td><td>independent</td></tr>\n",
       "\t<tr><td>0          </td><td>independent</td></tr>\n",
       "\t<tr><td>0          </td><td>independent</td></tr>\n",
       "</tbody>\n",
       "</table>\n"
      ],
      "text/latex": [
       "\\begin{tabular}{r|ll}\n",
       " russia16 & party\\\\\n",
       "\\hline\n",
       "\t 1           & independent\\\\\n",
       "\t 1           & independent\\\\\n",
       "\t 0           & independent\\\\\n",
       "\t 0           & independent\\\\\n",
       "\t 0           & independent\\\\\n",
       "\t 0           & independent\\\\\n",
       "\\end{tabular}\n"
      ],
      "text/markdown": [
       "\n",
       "russia16 | party | \n",
       "|---|---|---|---|---|---|\n",
       "| 1           | independent | \n",
       "| 1           | independent | \n",
       "| 0           | independent | \n",
       "| 0           | independent | \n",
       "| 0           | independent | \n",
       "| 0           | independent | \n",
       "\n",
       "\n"
      ],
      "text/plain": [
       "  russia16 party      \n",
       "1 1        independent\n",
       "2 1        independent\n",
       "3 0        independent\n",
       "4 0        independent\n",
       "5 0        independent\n",
       "6 0        independent"
      ]
     },
     "metadata": {},
     "output_type": "display_data"
    },
    {
     "name": "stdout",
     "output_type": "stream",
     "text": [
      "[1] \"Number of voters\"\n"
     ]
    },
    {
     "data": {
      "text/html": [
       "767"
      ],
      "text/latex": [
       "767"
      ],
      "text/markdown": [
       "767"
      ],
      "text/plain": [
       "[1] 767"
      ]
     },
     "metadata": {},
     "output_type": "display_data"
    },
    {
     "name": "stdout",
     "output_type": "stream",
     "text": [
      "[1] \"Russia16 Unique values:\"\n"
     ]
    },
    {
     "data": {
      "text/html": [
       "<ol class=list-inline>\n",
       "\t<li>1</li>\n",
       "\t<li>0</li>\n",
       "</ol>\n"
      ],
      "text/latex": [
       "\\begin{enumerate*}\n",
       "\\item 1\n",
       "\\item 0\n",
       "\\end{enumerate*}\n"
      ],
      "text/markdown": [
       "1. 1\n",
       "2. 0\n",
       "\n",
       "\n"
      ],
      "text/plain": [
       "[1] 1 0"
      ]
     },
     "metadata": {},
     "output_type": "display_data"
    }
   ],
   "source": [
    "# Combine both tables\n",
    "ind_rus_df<-rbind(df_ind1,df_ind2) \n",
    "# Adjust russia 16 to 0 for \"Russia probably interfered\" and 1 for \"This probably did not happen.\".\n",
    "ind_rus_df$russia16<-replace(ind_rus_df$russia16, ind_rus_df$russia16==1,0)\n",
    "ind_rus_df$russia16<-replace(ind_rus_df$russia16, ind_rus_df$russia16==2,1)\n",
    "head(ind_rus_df)\n",
    "print(\"Number of voters\")\n",
    "length(ind_rus_df$russia16)\n",
    "print(\"Russia16 Unique values:\")\n",
    "unique(ind_rus_df$russia16)"
   ]
  },
  {
   "cell_type": "code",
   "execution_count": 28,
   "metadata": {},
   "outputs": [
    {
     "data": {
      "image/png": "[encoded data removed]",
      "text/plain": [
       "Plot with title “Did Russia interfere in the 2016 election?”"
      ]
     },
     "metadata": {},
     "output_type": "display_data"
    }
   ],
   "source": [
    "hist(ind_rus_df$russia16, breaks = 2, main = \"Did Russia interfere in the 2016 election?\", xlab=\"Did Russia intefere? 0 = Probably Yes, 1 = Probably Not\", ylab=\"Independent Voters\")"
   ]
  },
  {
   "cell_type": "markdown",
   "metadata": {},
   "source": [
    "### Based on your EDA, select an appropriate hypothesis test.  (5 points)\n",
    "Explain why your test is the most appropriate choice, focusing on its statistical assumptions."
   ]
  },
  {
   "cell_type": "markdown",
   "metadata": {},
   "source": [
    ">We believe an two-sided, one sample T-test is the most appropriate choice because:\n",
    ">\n",
    ">* We have a large sample size (767) entries and believe that the Central Limit Theorem should hold, so the distribution should resemble a semi-normal distribution.\n",
    ">* The draws should be fairly independently and identically distributed given the YouGov sample methodology. It is not possible for a respondent to be in both groups.\n",
    ">* Since the true mean can be greater, equal or less than 0.5, a two-tailed test is more appropriate than a one-tailed t-test. \n",
    ">\n",
    ">However, since a two-sided t-test will not tell us if the true mean is >0.5, we will also construct a 95% confidence interval and examine the t-statistic to determine if the true mean is less than or greater than 0.5 in the case that the null hypothesis is rejected. \n",
    ">\n",
    ">\n",
    ">We will use a two tailed, one sample T-Test to determine if the majority of independent voters feel that the federal investigations into Russian election inteference are baseless.   \n",
    ">* Our null hypothesis is $H_0: \\mu = 0.5$ \n",
    ">* The alternative hypothesis is $H_A: \\mu \\neq 0.5$.\n",
    "\n"
   ]
  },
  {
   "cell_type": "markdown",
   "metadata": {},
   "source": [
    "### Conduct your test. (5 points)\n",
    "Explain (1) the statistical significance of your result, and (2) the practical significance of your result.  Make sure you relate your findings to the original research question."
   ]
  },
  {
   "cell_type": "code",
   "execution_count": 29,
   "metadata": {},
   "outputs": [
    {
     "data": {
      "text/plain": [
       "\n",
       "\tOne Sample t-test\n",
       "\n",
       "data:  ind_rus_df$russia16\n",
       "t = -2.7194, df = 766, p-value = 0.006689\n",
       "alternative hypothesis: true mean is not equal to 0.5\n",
       "95 percent confidence interval:\n",
       " 0.4158139 0.4864025\n",
       "sample estimates:\n",
       "mean of x \n",
       "0.4511082 \n"
      ]
     },
     "metadata": {},
     "output_type": "display_data"
    }
   ],
   "source": [
    "t.test(ind_rus_df$russia16, mu=0.5)"
   ]
  },
  {
   "cell_type": "code",
   "execution_count": 30,
   "metadata": {},
   "outputs": [
    {
     "data": {
      "text/html": [
       "0.0981903647366543"
      ],
      "text/latex": [
       "0.0981903647366543"
      ],
      "text/markdown": [
       "0.0981903647366543"
      ],
      "text/plain": [
       "[1] 0.09819036"
      ]
     },
     "metadata": {},
     "output_type": "display_data"
    }
   ],
   "source": [
    "# Practical effect size using Cohen's d estimate:\n",
    "(0.5-mean(ind_rus_df$russia16))/sd(ind_rus_df$russia16)"
   ]
  },
  {
   "cell_type": "markdown",
   "metadata": {},
   "source": [
    ">**Q3 Summary of Results:**\n",
    ">\n",
    ">Our one sample T-test returned a p-value of 0.007, which is much less than 0.05. As a result, our test is statistically significant and we can reject the null hypothesis that the true mean is less than or equal to 0.5. Since our 95% CI is (0.415,0.486) and we have a negative t statistic with 766 degrees of freedom, we can reasonably conclude that the true mean is less than 0.5 since 95% of intervals constructed in this manner should contain the true mean. \n",
    ">\n",
    ">Practically, using the Cohen's d method we got a d estimate of 0.09, which is less than 0.2. As a result, the practical significance of our test is small. \n",
    ">\n",
    ">Given that we operationalized the belief that federal investigations of Russian election inteference are baseless based on whether or not respondents believed that the Russia intefered with the election, we determined that the majority of independent voters believe Russia probably did intervene and we extrapolate that to imply that they belief that the federal investigations have merit. However, this finding should be taken with a grain of salt as the practical significance is small. "
   ]
  },
  {
   "cell_type": "markdown",
   "metadata": {},
   "source": [
    "**We will conduct a breif survey design version of this test for comparison. Note that the survey design will apply weights to the sample to reflect the population.**"
   ]
  },
  {
   "cell_type": "code",
   "execution_count": 31,
   "metadata": {},
   "outputs": [
    {
     "ename": "ERROR",
     "evalue": "Error in update(anes_design, one = 1, party_iden = case_when((pid1d == : object 'anes_design' not found\n",
     "output_type": "error",
     "traceback": [
      "Error in update(anes_design, one = 1, party_iden = case_when((pid1d == : object 'anes_design' not found\nTraceback:\n",
      "1. update(anes_design, one = 1, party_iden = case_when((pid1d == \n .     1 | pid1r == 1) & pidstr == 1 ~ 1, (pid1d == 1 | pid1r == \n .     1) & (pidstr == 2 | pidstr == 0) ~ 2, (pid1d == 4 | pid1r == \n .     4) & (pidlean == 2) ~ 3, (pid1d == 4 | pid1r == 4) & (pidlean == \n .     1) ~ 7, (pid1d == 2 | pid1r == 2) & (pidstr == 2 | pidstr == \n .     0) ~ 8, (pid1d == 2 | pid1r == 2) & pidstr == 1 ~ 9, (pidlean == \n .     2) ~ 4, (pidlean == 3) | ((pid1d == 3 | pid1r == 3) & pidlean == \n .     0) ~ 5, (pidlean == 1) ~ 6, TRUE ~ 0, ), independent = ifelse(party_iden %in% \n .     4:6, as.numeric(party_iden %in% 4:6), NA), interfered = factor(russia16, \n .     levels = 1:2, labels = c(\"Yes\", \"No\")))"
     ]
    }
   ],
   "source": [
    "anes_design <- \n",
    "    update( \n",
    "        anes_design , \n",
    "        \n",
    "        one = 1,\n",
    "        \n",
    "        party_iden = case_when (\n",
    "            (pid1d == 1 | pid1r == 1) & pidstr == 1 ~ 1, #Strong Democrat\n",
    "            (pid1d == 1 | pid1r == 1) & (pidstr == 2 | pidstr == 0) ~ 2, #Not very strong Democrat\n",
    "            (pid1d == 4 | pid1r == 4) & (pidlean == 2) ~ 3, #Something else, closer to Democrat\n",
    "            (pid1d == 4 | pid1r == 4) & (pidlean == 1) ~ 7, #Something else, closer to Republican\n",
    "            (pid1d == 2 | pid1r == 2) & (pidstr == 2 | pidstr == 0) ~ 8, #Not very strong Republican\n",
    "            (pid1d == 2 | pid1r == 2) & pidstr == 1 ~ 9, #Strong Republican\n",
    "            (pidlean == 2) ~ 4, #Indep, Closer to Democratic Party\n",
    "            (pidlean == 3) | ((pid1d == 3 | pid1r == 3) & pidlean == 0) ~ 5, #Independent\n",
    "            (pidlean == 1) ~ 6, #Indep, Closer to Republican Party\n",
    "            TRUE ~ 0, \n",
    "        ),\n",
    "        \n",
    "        independent = ifelse(party_iden %in% 4:6, as.numeric(party_iden %in% 4:6), NA),\n",
    "        \n",
    "        interfered =\n",
    "            factor( russia16 , levels = 1:2 , labels =\n",
    "                c( 'Yes',\n",
    "                    'No')\n",
    "            )\n",
    ")"
   ]
  },
  {
   "cell_type": "code",
   "execution_count": 32,
   "metadata": {},
   "outputs": [
    {
     "ename": "ERROR",
     "evalue": "Error in svyby(~interfered, ~independent, anes_design, svymean, na.rm = TRUE): could not find function \"svyby\"\n",
     "output_type": "error",
     "traceback": [
      "Error in svyby(~interfered, ~independent, anes_design, svymean, na.rm = TRUE): could not find function \"svyby\"\nTraceback:\n"
     ]
    }
   ],
   "source": [
    "svyby(~interfered, ~independent, anes_design, svymean, na.rm=TRUE)"
   ]
  },
  {
   "cell_type": "code",
   "execution_count": 33,
   "metadata": {},
   "outputs": [
    {
     "ename": "ERROR",
     "evalue": "Error in svyttest(independent ~ interfered, anes_design, na.rm = TRUE): could not find function \"svyttest\"\n",
     "output_type": "error",
     "traceback": [
      "Error in svyttest(independent ~ interfered, anes_design, na.rm = TRUE): could not find function \"svyttest\"\nTraceback:\n"
     ]
    }
   ],
   "source": [
    "svyttest(independent ~ interfered, anes_design, na.rm=TRUE)"
   ]
  },
  {
   "cell_type": "markdown",
   "metadata": {},
   "source": [
    "By looking at the survey means after generalizing to the population we see there is near equilibrium in belief of interference amongst independent voters. And given the high p-values after the test, we would fail to accept the null."
   ]
  },
  {
   "cell_type": "markdown",
   "metadata": {},
   "source": [
    "## Question 4: Was anger or fear more effective at driving increases in voter turnout from 2016 to 2018?"
   ]
  },
  {
   "cell_type": "markdown",
   "metadata": {},
   "source": [
    "### Introduce your topic briefly.  (5 points)\n",
    "Explain how your variables are operationalized.  Comment on any gaps that you can identify between your operational definitions and the concepts you are trying to study."
   ]
  },
  {
   "cell_type": "markdown",
   "metadata": {},
   "source": [
    ">From a conceptual standpoint we want to understand levels of voter fear and anger in our current political climate as a measure of influence to turnout. While the question is interesting, we also can't discount other contributing factors to turnout, such as a controversial issue on the ballot like marijuana legalization.\n",
    ">\n",
    ">That said, we are looking specifically at anger over fear or fear over anger as a contributing factor, and assuming there will always be error terms, we wish to find information on which of these two variables played more of a factor.\n",
    ">\n",
    ">*Global Emotion Battery* We have four such questions from the survey that provide sentiment on anger and fear with respect to feeling about the way things are going in the country. There are also questions concerning anger and fear specific to Donald Trump and his actions in office. While anger and fear against Donald Trump may factor into increased turnout, it does so only on the Decratic side; The same logic would not apply to Republicans.\n",
    ">\n",
    ">Therefore, we will use the general sentiment \"on the way things are going in the country\" as the independent variables that may have contributed to turnout in 2018. \n",
    ">\n",
    ">> * **geangry**: How do you feel about the way things are going in the country: angry\n",
    ">* **geworried**: How do you feel about the way things are going in the country: afraid\n",
    ">\n",
    ">We note that these are ordinal values on a ranked scale.\n",
    ">\n",
    ">*Turnout* We will operationalize the meaning of the \"increased turnout\" sample to include those who voted in 2018 (vs those who did not vote). Those who voted in 2018 all contributed to a higher turnout. We do not need to compare voters in 2018 with 2016 to deduce this because we are not arguing whether increased turnout happened in this research, but taking it on face value that it did, and relying on other research that has shown this past election cycle had higher turnout  than normal (also known as a wave election) rather than attempting to do so here. We can't make an argument for it in this study because we don't have data on prior year's voting records for other off-cycle elections to reliably define the meaning. Because of this, we take the assumption that turnout was higher, and look for influences in the survey that may have influenced it.\n",
    ">\n",
    ">* **turnout18**: In the election held on November 6, did you definitely vote in person on election day, vote in person before Nov 6, vote by mail, did you definitely not vote, or are you not completely sure whether you voted in that election?\n",
    ">\n",
    ">* **turnout18ns**: If you had to guess, would you say that you probably did vote in the election held on November 6, or probably did not vote in that election?\n",
    ">\n",
    "> We are including those who answered the second chance question in the test as we want to capture the spirit of the question to include all the people who said they voted.\n",
    "\n"
   ]
  },
  {
   "cell_type": "markdown",
   "metadata": {},
   "source": [
    "### Perform an exploratory data analysis (EDA) of the relevant variables. (5 points)\n",
    "This should include a treatment of non-response and other special codes, basic sanity checks, and a justification for any values that are removed.  Use visual tools to assess the relationship among your variables and comment on any features you find."
   ]
  },
  {
   "cell_type": "markdown",
   "metadata": {},
   "source": [
    "Below we will define the variables used in the package. Their operationalized is described above."
   ]
  },
  {
   "cell_type": "code",
   "execution_count": null,
   "metadata": {},
   "outputs": [],
   "source": [
    "anes_design <- \n",
    "    update( \n",
    "        anes_design , \n",
    "        \n",
    "        angry_person = ifelse( geangry %in% 1:5 , geangry , NA ) ,\n",
    "        \n",
    "        fearful_person = ifelse( geafraid %in% 1:5 , geafraid , NA ) ,  \n",
    "        voted_in_18 = ifelse( turnout18 %in% 1:5 , \n",
    "                             ifelse(turnout18 == 5, # if not sure - use response in 18ns question\n",
    "                                    as.numeric(turnout18ns==1), \n",
    "                                    as.numeric( turnout18 %in% 1:3 )) , #1:3 are all valid mechanisms for voting\n",
    "                             NA ),        \n",
    "        angry =\n",
    "            factor( angry_person , levels = 1:5 , labels =\n",
    "                c( 'Not at all triggered by emotion' ,\n",
    "                    'A little triggered by emotion' ,\n",
    "                    'Somewhat triggered by emotion' ,\n",
    "                    'Very triggered by emotion' ,\n",
    "                    'Extremely triggered by emotion')\n",
    "            ),\n",
    "        \n",
    "        fearful =\n",
    "            factor( fearful_person , levels = 1:5 , labels =\n",
    "                c( 'Not at all triggered by emotion' ,\n",
    "                    'A little triggered by emotion' ,\n",
    "                    'Somewhat triggered by emotion' ,\n",
    "                    'Very triggered by emotion' ,\n",
    "                    'Extremely triggered by emotion')\n",
    "            ),\n",
    "        voted_in_18 =\n",
    "            factor( voted_in_18 , levels = 0:1 , labels =\n",
    "                c( 'Did not vote' ,\n",
    "                    'Voted')\n",
    "            )\n",
    ")"
   ]
  },
  {
   "cell_type": "markdown",
   "metadata": {},
   "source": [
    "Let's review a comparision of the weighted scale of readings in each category to show how they measure up between voters and non-voters. Note that the bar graphs below are weighted to represent the population."
   ]
  },
  {
   "cell_type": "code",
   "execution_count": null,
   "metadata": {},
   "outputs": [],
   "source": [
    "#create a cross-table for plotting\n",
    "tab_a<-svytable(~voted_in_18+angry, anes_design)\n",
    "tab_f<-svytable(~voted_in_18+fearful, anes_design)\n",
    "tab_angry <- as.data.frame(tab_a) %>%\n",
    "  group_by(voted_in_18) %>%\n",
    "  mutate(n_Category = sum(Freq), Prop_voted_in_18 = Freq / n_Category) %>%\n",
    "  ungroup()\n",
    "tab_angry <- tab_angry %>% rename(Response=angry)\n",
    "tab_fearful <- as.data.frame(tab_f) %>%\n",
    "  group_by(voted_in_18) %>%\n",
    "  mutate(n_Category = sum(Freq), Prop_voted_in_18 = Freq / n_Category) %>%\n",
    "  ungroup()\n",
    "tab_fearful <- tab_fearful %>% rename(Response=fearful)\n",
    "tab_angry$category<-\"Anger\"\n",
    "tab_fearful$category<-\"Fear\"\n",
    "df_combo=rbind(tab_angry, tab_fearful)"
   ]
  },
  {
   "cell_type": "code",
   "execution_count": null,
   "metadata": {},
   "outputs": [],
   "source": [
    "# Create a segmented bar graph\n",
    "ggplot(data = df_combo,\n",
    "       mapping = aes(x = voted_in_18, y = Prop_voted_in_18, fill = Response)) +\n",
    "  facet_wrap(~ category) +\n",
    "  geom_col() +\n",
    " labs(title=\"Emotional Battery for 2018 Voters\", y=\"Proportion of Responses\", x=\"Did you vote in 2018?\")"
   ]
  },
  {
   "cell_type": "markdown",
   "metadata": {},
   "source": [
    "Let's get the percent breakdowns of each segment above for confirmation."
   ]
  },
  {
   "cell_type": "code",
   "execution_count": null,
   "metadata": {},
   "outputs": [],
   "source": [
    "vars <- c(\"angry\", 'fearful')\n",
    "strata<-c(\"voted_in_18\")\n",
    "tabIPW <- svyCreateTableOne(vars = vars, strata=strata, test=FALSE, data = anes_design)\n",
    "print(tabIPW, smd = TRUE)"
   ]
  },
  {
   "cell_type": "markdown",
   "metadata": {},
   "source": [
    "Based on inspection there appears to be more emotive responses from people who voted vs people who didn't. This shows some promise of relationship. We'll turn to the tests to confirm."
   ]
  },
  {
   "cell_type": "markdown",
   "metadata": {},
   "source": [
    "### Based on your EDA, select an appropriate hypothesis test.  (5 points)\n",
    "Explain why your test is the most appropriate choice, focusing on its statistical assumptions."
   ]
  },
  {
   "cell_type": "markdown",
   "metadata": {},
   "source": [
    ">Because both measures are nominal and categorical. We will apply a non-parametic Chi-Square test of independence to determine if there is a significant relationship between the two variables. \n",
    ">We will use the test to evaluate the frequency of each answer from the emotive variables against the yes/no response in the turnout variable.\n",
    ">\n",
    "> Our hypothesis include\n",
    "> * $H_0(anger)$: There is no relationship between anger and voter turnout\n",
    "> * $H_A(anger)$: There is a relationship between anger/fear and voter turnout\n",
    "> * $H_0(fear)$: There is no relationship between fear and voter turnout\n",
    "> * $H_A(fear)$: There is a relationship between anger/fear and voter turnout\n",
    ">\n",
    "> Then, from the P values we receive, we will review which one is smaller comparatively, and associate the lower score with the stronger relationship (fear over anger) or (anger over fear) for those who (voted in 2018 vs not voted in 2018). "
   ]
  },
  {
   "cell_type": "markdown",
   "metadata": {},
   "source": [
    "### Conduct your test. (5 points)\n",
    "Explain (1) the statistical significance of your result, and (2) the practical significance of your result.  Make sure you relate your findings to the original research question."
   ]
  },
  {
   "cell_type": "code",
   "execution_count": null,
   "metadata": {},
   "outputs": [],
   "source": [
    "vars <- c(\"angry\", 'fearful')\n",
    "strata<-c(\"voted_in_18\")\n",
    "tabIPW <- svyCreateTableOne(vars = vars, strata=strata, \n",
    "                            testApprox=\"svyTestChisq\", data = anes_design)\n",
    "print(tabIPW, smd = TRUE)\n",
    "summary(tabIPW)"
   ]
  },
  {
   "cell_type": "markdown",
   "metadata": {},
   "source": [
    ">**Q4 Summary of Results:**\n",
    ">\n",
    ">By looking at the p values, both emotions showed support for a relationship toward increased voter turnout. But going back to the question we can say that anger was a higher influence over fear due to its much lower p value.\n",
    ">\n",
    ">These results show statistical significance.\n",
    ">\n",
    ">Last, because the test results have been weighted to the population, the standard mean difference obtained is the effect size.\n",
    ">\n",
    ">The SMD results shows practical significance.\n",
    ">\n",
    ">Our key takeway: If you want more people to show up at the ballot box, just make them mad. "
   ]
  },
  {
   "cell_type": "markdown",
   "metadata": {},
   "source": [
    "## Question 5: Select a fifth question that you believe is important for understanding the behavior of voters\n",
    "\n",
    "### Do Non-affiliated PERSONS (voters and non-voters) share the same or different concerns on financial security and access to health care than Party-affiliated VOTERS?"
   ]
  },
  {
   "cell_type": "markdown",
   "metadata": {},
   "source": [
    "### Clearly argue for the relevance of this question.  (10 points)\n",
    "In words, clearly state your research question and argue why it is important for understanding the recent voting behavior. Explain it as if you were presenting to an audience that includes technical and non technical members.\n",
    "\n",
    "Explain how your variables are operationalized.  Comment on any gaps that you can identify between your operational definitions and the concepts you are trying to study."
   ]
  },
  {
   "cell_type": "markdown",
   "metadata": {},
   "source": [
    ">The United States has a winner-take-all voting system in which the candidates with the largest number of votes is awarded the political position. As a result, candidates must often try to gather votes from outside their core supporters, including votes from independents or voters who subscribe to different political beliefs. In order to 1) appeal to a broader audience and 2) to guide policy following election into office, potential candidates should be interested in the issues that resonate with voters who do not belong to their party. \n",
    ">\n",
    ">Hence, we are interested in understanding what issues are most important to the voters who identify with neither the Republican or Democratic parties. Their lack of party affiliation may indicate that they could be likely to vote in either direction, but it is not a given that they are equally receptive to either party. \n",
    ">\n",
    ">In order to focus the scope of the investigation, we have identified two potential areas of investigation that target basic human needs in today's society: financial security and access to health care. The goal of our research question is to determine if we can rank the two issues and to see which is more important. We hope to find a result that is both statistically and practically significant, or in other words, evidence that one issue is more important than the other and that this effect is large and clearly observable.  \n",
    ">\n",
    ">*Financial security:*\n",
    ">In order to assess respondents' views on their own financial security, we propose to examine the variable \"finworry\", which asks  \"So far as you and your family are concerned, how worried are you about your current\n",
    "financial situation?\" with the answers \"Not at all worried\", \"A little worried\", \"Moderately worried\", \"Very worried\" and \"extremely worried\". These answers are also matched to the numbers 1 through 5, with 1 being not worried and 5 being extremely worried. \n",
    ">\n",
    ">*Access to healthcare*\n",
    ">In order to assess respondents' view on their access to healthcare, we propose to examine the variable \"loseins\" which asks \"How concerned are you about losing your health insurance in the next year?\" with the answers \"Not at all concerned\", \"A little concerned\", \"Moderately concerned\", \"Very concerned\" and \"extremely concerned\". These answers are also matched to the numbers 1 through 5, with 1 being not concerned and 5 being extremely concerned.\n",
    ">\n",
    ">Potential limitations:\n",
    ">* While the two sets of answers are on comparable scales (worried/ concerned can be synonyms in this context), we can not say for sure that respondents will view these as the same scale. \n",
    ">* The two worries are not necesarily mutually exclusive or independent. For example, respondants may fear losing access to health insurance (possibly granted through a job) because they are afraid of losing their job, which would impact their financial situation. Similarly, respondents may be worried about their financial situation due to rising uncovered/uninsured health care costs. \n",
    ">* Access to health insurance is also not a perfect fit for determining access to health care. For example, one could have health insurance but the appropriate health care may still be unaffordable. As a result, the respondent may not fear losing health insurance but is still worried about access to health care.\n",
    ">* Answers to both variables can change over time, based on external macroeconomic conditions. For example, if the global economy starts to seriously slow and people start losing their jobs then respondents may be more concerned with their financial security. Hence, the respondents answer in December 2018 may be less applicable for analysis conducted with the next set of elections in mind.\n",
    ">\n",
    ">*Non-affiliated voters:*\n",
    "Similar to questions 2 and 3, we will use the \"pid1r\" and \"pid1d\" fields to determine the respondents affiliation (or lack thereof). "
   ]
  },
  {
   "cell_type": "markdown",
   "metadata": {},
   "source": [
    "### Perform EDA and select your hypothesis test (5 points)\n",
    "\n",
    "Perform an exploratory data analysis (EDA) of the relevant variables.\n",
    "\n",
    "This should include a treatment of non-response and other special codes, basic sanity checks, and a justification for any values that are removed.  Use visual tools to assess the relationship among your variables and comment on any features you find.\n",
    "\n",
    "Based on your EDA, select an appropriate hypothesis test.\n",
    "Explain why your test is the most appropriate choice, focusing on its statistical assumptions."
   ]
  },
  {
   "cell_type": "code",
   "execution_count": null,
   "metadata": {},
   "outputs": [],
   "source": [
    "anes_design <- \n",
    "    update( \n",
    "        anes_design , \n",
    "        \n",
    "        one = 1,\n",
    "        \n",
    "        party_iden = case_when (\n",
    "            (pid1d == 1 | pid1r == 1) & pidstr == 1 ~ 1, #Strong Democrat\n",
    "            (pid1d == 1 | pid1r == 1) & (pidstr == 2 | pidstr == 0) ~ 2, #Not very strong Democrat\n",
    "            (pid1d == 4 | pid1r == 4) & (pidlean == 2) ~ 3, #Something else, closer to Democrat\n",
    "            (pid1d == 4 | pid1r == 4) & (pidlean == 1) ~ 7, #Something else, closer to Republican\n",
    "            (pid1d == 2 | pid1r == 2) & (pidstr == 2 | pidstr == 0) ~ 8, #Not very strong Republican\n",
    "            (pid1d == 2 | pid1r == 2) & pidstr == 1 ~ 9, #Strong Republican\n",
    "            (pidlean == 2) ~ 4, #Indep, Closer to Democratic Party\n",
    "            (pidlean == 3) | ((pid1d == 3 | pid1r == 3) & pidlean == 0) ~ 5, #Independent\n",
    "            (pidlean == 1) ~ 6, #Indep, Closer to Republican Party\n",
    "            TRUE ~ 0, \n",
    "        ),\n",
    "        \n",
    "        registered_voter = ifelse( reg %in% 1:3 , as.numeric( reg %in% 1:2 ) , NA ) ,\n",
    "\n",
    "        \n",
    "        non_affiliated = ifelse(party_iden %in% 3:7, # all independents and whoever said something else\n",
    "                                1,\n",
    "                                ifelse(registered_voter == 1, # the rest of the affiliated voting population\n",
    "                                       0,\n",
    "                                       NA)),\n",
    "        \n",
    "        lose_health =\n",
    "            factor( loseins , levels = 1:5 , labels =\n",
    "                c( 'Not at all worried' ,\n",
    "                    'A little worried' ,\n",
    "                    'Somewhat worried' ,\n",
    "                    'Very worried' ,\n",
    "                    'Extremely worried')\n",
    "            ),\n",
    "        \n",
    "        lose_finance =\n",
    "            factor( finworry , levels = 1:5 , labels =\n",
    "                c( 'Not at all worried' ,\n",
    "                    'A little worried' ,\n",
    "                    'Somewhat worried' ,\n",
    "                    'Very worried' ,\n",
    "                    'Extremely worried')\n",
    "            ),\n",
    "        affiliated =\n",
    "            factor( non_affiliated , levels = 0:1 , labels =\n",
    "                c( 'Affiliated' ,\n",
    "                    'Non-Affiliated')\n",
    "            )\n",
    "\n",
    ")\n"
   ]
  },
  {
   "cell_type": "markdown",
   "metadata": {},
   "source": [
    ">Let's review a comparision of the weighted scale of readings in each category to show how they measure up amongst the non-affiliated population. Note that the bar graphs below are weighted to represent the population."
   ]
  },
  {
   "cell_type": "code",
   "execution_count": null,
   "metadata": {},
   "outputs": [],
   "source": [
    "#create a cross-table for plotting\n",
    "tab_a<-svytable(~affiliated+lose_health, anes_design)\n",
    "tab_f<-svytable(~affiliated+lose_finance, anes_design)"
   ]
  },
  {
   "cell_type": "code",
   "execution_count": null,
   "metadata": {},
   "outputs": [],
   "source": [
    "tab_aca <- as.data.frame(tab_a) %>%\n",
    "  group_by(affiliated) %>%\n",
    "  mutate(n_Category = sum(Freq), Prop_affiliated = Freq / n_Category) %>%\n",
    "  ungroup()\n",
    "tab_aca <- tab_aca %>% rename(Response=lose_health)"
   ]
  },
  {
   "cell_type": "code",
   "execution_count": null,
   "metadata": {},
   "outputs": [],
   "source": [
    "tab_finance <- as.data.frame(tab_f) %>%\n",
    "  group_by(affiliated) %>%\n",
    "  mutate(n_Category = sum(Freq), Prop_affiliated = Freq / n_Category) %>%\n",
    "  ungroup()\n",
    "tab_finance <- tab_finance %>% rename(Response=lose_finance)"
   ]
  },
  {
   "cell_type": "code",
   "execution_count": null,
   "metadata": {},
   "outputs": [],
   "source": [
    "tab_aca$category<-\"Loss of Heath Ins\"\n",
    "tab_finance$category<-\"Loss of Finance\"\n",
    "df_combo=rbind(tab_aca, tab_finance)"
   ]
  },
  {
   "cell_type": "code",
   "execution_count": null,
   "metadata": {},
   "outputs": [],
   "source": [
    "# Create a segmented bar graph\n",
    "ggplot(data = df_combo,\n",
    "       mapping = aes(x = affiliated, y = Prop_affiliated, fill = Response)) +\n",
    "  facet_wrap(~ category) +\n",
    "  geom_col() +\n",
    " labs(title=\"Emotional Battery for Affiliated VOTERS vs Non-affiliated PERSONS\", y=\"Proportion of Responses\", x=\"Are you affiliated with either party?\")"
   ]
  },
  {
   "cell_type": "markdown",
   "metadata": {},
   "source": [
    ">To confirm the percent breakdowns for each segment in the above."
   ]
  },
  {
   "cell_type": "code",
   "execution_count": null,
   "metadata": {},
   "outputs": [],
   "source": [
    "vars <- c(\"lose_health\", 'lose_finance')\n",
    "strata<-c(\"affiliated\")\n",
    "tabIPW <- svyCreateTableOne(vars = vars, strata=strata, test=FALSE, data = anes_design)\n",
    "print(tabIPW, smd = TRUE)"
   ]
  },
  {
   "cell_type": "markdown",
   "metadata": {},
   "source": [
    ">Based on inspection there appears to be more financial worry and worry over loss of health insurance for the non affiliated person over voters who are affiliated with a party. This shows promise of relationship, and an emerging idea that the concerns of the non-affiliated population aren't being met. We'll turn to the tests to confirm."
   ]
  },
  {
   "cell_type": "markdown",
   "metadata": {},
   "source": [
    "### Conduct your test. (2 points)\n",
    "Explain (1) the statistical significance of your result, and (2) the practical significance of your result."
   ]
  },
  {
   "cell_type": "code",
   "execution_count": null,
   "metadata": {},
   "outputs": [],
   "source": [
    "vars <- c(\"lose_health\", 'lose_finance')\n",
    "strata<-c(\"affiliated\")\n",
    "tabIPW <- svyCreateTableOne(vars = vars, strata=strata, \n",
    "                            testApprox=\"svyTestChisq\", data = anes_design)\n",
    "print(tabIPW, smd = TRUE)\n",
    "summary(tabIPW)"
   ]
  },
  {
   "cell_type": "markdown",
   "metadata": {},
   "source": [
    "### Conclusion (3 points)\n",
    "Clearly state the conclusion of your hypothesis test and how it relates to your research question.\n",
    "\n",
    "Finally, briefly present your conclusion in words as if you were presenting to an audience that includes technical and non technical members."
   ]
  },
  {
   "cell_type": "markdown",
   "metadata": {},
   "source": [
    ">Through rigorous testing we have demonstrated that concerns of persons who are not affiliated with either major political party are statistically different than voters who are affiliated with a party. Given the large segement of the population who remain non-affiliated this finding has practical significance in application to any interested policy maker."
   ]
  },
  {
   "cell_type": "code",
   "execution_count": null,
   "metadata": {},
   "outputs": [],
   "source": []
  }
 ],
 "metadata": {
  "kernelspec": {
   "display_name": "R",
   "language": "R",
   "name": "ir"
  },
  "language_info": {
   "codemirror_mode": "r",
   "file_extension": ".r",
   "mimetype": "text/x-r-source",
   "name": "R",
   "pygments_lexer": "r",
   "version": "3.5.1"
  },
  "toc": {
   "base_numbering": 1,
   "nav_menu": {},
   "number_sections": true,
   "sideBar": true,
   "skip_h1_title": false,
   "title_cell": "Table of Contents",
   "title_sidebar": "Contents",
   "toc_cell": true,
   "toc_position": {},
   "toc_section_display": true,
   "toc_window_display": false
  },
  "varInspector": {
   "cols": {
    "lenName": 16,
    "lenType": 16,
    "lenVar": 40
   },
   "kernels_config": {
    "python": {
     "delete_cmd_postfix": "",
     "delete_cmd_prefix": "del ",
     "library": "var_list.py",
     "varRefreshCmd": "print(var_dic_list())"
    },
    "r": {
     "delete_cmd_postfix": ") ",
     "delete_cmd_prefix": "rm(",
     "library": "var_list.r",
     "varRefreshCmd": "cat(var_dic_list()) "
    }
   },
   "types_to_exclude": [
    "module",
    "function",
    "builtin_function_or_method",
    "instance",
    "_Feature"
   ],
   "window_display": false
  }
 },
 "nbformat": 4,
 "nbformat_minor": 2
}
